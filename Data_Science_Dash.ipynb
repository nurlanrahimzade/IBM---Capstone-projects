{
 "cells": [
  {
   "cell_type": "code",
   "execution_count": 2,
   "id": "e90cf30e-fcee-4781-8285-e030728816cb",
   "metadata": {
    "tags": []
   },
   "outputs": [],
   "source": [
    "import plotly.graph_objects as go\n",
    "import plotly.express as px\n",
    "import pandas as pd\n",
    "from dash import Dash,dcc,html,Input,Output,callback"
   ]
  },
  {
   "cell_type": "code",
   "execution_count": 37,
   "id": "f79c6b1c-d959-4a08-8b10-c1aee5f0a9fb",
   "metadata": {
    "tags": []
   },
   "outputs": [],
   "source": [
    "data =\"https://cf-courses-data.s3.us.cloud-object-storage.appdomain.cloud/IBM-DS0321EN-SkillsNetwork/datasets/spacex_launch_dash.csv\"\n",
    "csv = pd.read_csv(data)\n",
    "df = pd.DataFrame(csv)\n",
    "df = df.drop(columns=['Unnamed: 0'])\n"
   ]
  },
  {
   "cell_type": "code",
   "execution_count": 39,
   "id": "3ded8e79-c673-4df5-87d2-70fbd786b5ea",
   "metadata": {
    "tags": []
   },
   "outputs": [
    {
     "data": {
      "text/html": [
       "<div>\n",
       "<style scoped>\n",
       "    .dataframe tbody tr th:only-of-type {\n",
       "        vertical-align: middle;\n",
       "    }\n",
       "\n",
       "    .dataframe tbody tr th {\n",
       "        vertical-align: top;\n",
       "    }\n",
       "\n",
       "    .dataframe thead th {\n",
       "        text-align: right;\n",
       "    }\n",
       "</style>\n",
       "<table border=\"1\" class=\"dataframe\">\n",
       "  <thead>\n",
       "    <tr style=\"text-align: right;\">\n",
       "      <th></th>\n",
       "      <th>Flight Number</th>\n",
       "      <th>Launch Site</th>\n",
       "      <th>class</th>\n",
       "      <th>Payload Mass (kg)</th>\n",
       "      <th>Booster Version</th>\n",
       "      <th>Booster Version Category</th>\n",
       "    </tr>\n",
       "  </thead>\n",
       "  <tbody>\n",
       "    <tr>\n",
       "      <th>0</th>\n",
       "      <td>1</td>\n",
       "      <td>CCAFS LC-40</td>\n",
       "      <td>0</td>\n",
       "      <td>0.0</td>\n",
       "      <td>F9 v1.0  B0003</td>\n",
       "      <td>v1.0</td>\n",
       "    </tr>\n",
       "    <tr>\n",
       "      <th>1</th>\n",
       "      <td>2</td>\n",
       "      <td>CCAFS LC-40</td>\n",
       "      <td>0</td>\n",
       "      <td>0.0</td>\n",
       "      <td>F9 v1.0  B0004</td>\n",
       "      <td>v1.0</td>\n",
       "    </tr>\n",
       "  </tbody>\n",
       "</table>\n",
       "</div>"
      ],
      "text/plain": [
       "   Flight Number  Launch Site  class  Payload Mass (kg) Booster Version  \\\n",
       "0              1  CCAFS LC-40      0                0.0  F9 v1.0  B0003   \n",
       "1              2  CCAFS LC-40      0                0.0  F9 v1.0  B0004   \n",
       "\n",
       "  Booster Version Category  \n",
       "0                     v1.0  \n",
       "1                     v1.0  "
      ]
     },
     "execution_count": 39,
     "metadata": {},
     "output_type": "execute_result"
    }
   ],
   "source": [
    "df.head(2)"
   ]
  },
  {
   "cell_type": "code",
   "execution_count": null,
   "id": "9494b460-ac5d-4c73-9fda-70b485e30d4a",
   "metadata": {
    "tags": []
   },
   "outputs": [],
   "source": []
  },
  {
   "cell_type": "code",
   "execution_count": 52,
   "id": "5673c286-7483-48dc-94d3-a60844987449",
   "metadata": {
    "tags": []
   },
   "outputs": [],
   "source": [
    "success = df.query('`class` == 1')"
   ]
  },
  {
   "cell_type": "code",
   "execution_count": 58,
   "id": "0f828bca-e9a0-4402-b1b0-b7493b7a3997",
   "metadata": {
    "tags": []
   },
   "outputs": [
    {
     "data": {
      "text/html": [
       "<div>\n",
       "<style scoped>\n",
       "    .dataframe tbody tr th:only-of-type {\n",
       "        vertical-align: middle;\n",
       "    }\n",
       "\n",
       "    .dataframe tbody tr th {\n",
       "        vertical-align: top;\n",
       "    }\n",
       "\n",
       "    .dataframe thead th {\n",
       "        text-align: right;\n",
       "    }\n",
       "</style>\n",
       "<table border=\"1\" class=\"dataframe\">\n",
       "  <thead>\n",
       "    <tr style=\"text-align: right;\">\n",
       "      <th></th>\n",
       "      <th>Flight Number</th>\n",
       "      <th>Launch Site</th>\n",
       "      <th>class</th>\n",
       "      <th>Payload Mass (kg)</th>\n",
       "      <th>Booster Version</th>\n",
       "      <th>Booster Version Category</th>\n",
       "    </tr>\n",
       "  </thead>\n",
       "  <tbody>\n",
       "    <tr>\n",
       "      <th>17</th>\n",
       "      <td>19</td>\n",
       "      <td>CCAFS LC-40</td>\n",
       "      <td>1</td>\n",
       "      <td>1952.0</td>\n",
       "      <td>F9 v1.1 B1018</td>\n",
       "      <td>v1.1</td>\n",
       "    </tr>\n",
       "    <tr>\n",
       "      <th>18</th>\n",
       "      <td>20</td>\n",
       "      <td>CCAFS LC-40</td>\n",
       "      <td>1</td>\n",
       "      <td>2034.0</td>\n",
       "      <td>F9 FT B1019</td>\n",
       "      <td>FT</td>\n",
       "    </tr>\n",
       "  </tbody>\n",
       "</table>\n",
       "</div>"
      ],
      "text/plain": [
       "    Flight Number  Launch Site  class  Payload Mass (kg) Booster Version  \\\n",
       "17             19  CCAFS LC-40      1             1952.0   F9 v1.1 B1018   \n",
       "18             20  CCAFS LC-40      1             2034.0     F9 FT B1019   \n",
       "\n",
       "   Booster Version Category  \n",
       "17                     v1.1  \n",
       "18                       FT  "
      ]
     },
     "execution_count": 58,
     "metadata": {},
     "output_type": "execute_result"
    }
   ],
   "source": [
    "success.head(2)"
   ]
  },
  {
   "cell_type": "code",
   "execution_count": 101,
   "id": "025c12e9-1115-4afe-b091-2b1ed303ceb7",
   "metadata": {
    "tags": []
   },
   "outputs": [
    {
     "data": {
      "text/html": [
       "\n",
       "        <iframe\n",
       "            width=\"100%\"\n",
       "            height=\"650\"\n",
       "            src=\"http://127.0.0.1:8050/\"\n",
       "            frameborder=\"0\"\n",
       "            allowfullscreen\n",
       "            \n",
       "        ></iframe>\n",
       "        "
      ],
      "text/plain": [
       "<IPython.lib.display.IFrame at 0x26875eea410>"
      ]
     },
     "metadata": {},
     "output_type": "display_data"
    }
   ],
   "source": [
    "app = Dash(__name__)\n",
    "\n",
    "app.layout=html.Div([\n",
    "html.H1('SpaceX Launch Records Dashboard',style={'textAlign':'center'}),\n",
    "    dcc.Dropdown(id='site-dropdown',\n",
    "                options=[{'label':'All Sites','value':'ALL'}] + [{'label': i ,'value':i}for i in success['Launch Site'].unique()],\n",
    "                value='ALL'),\n",
    "    dcc.Graph(id='success-pie-chart'),\n",
    "    dcc.RangeSlider(id='payload-slider',min=0,max=10000,step=1000,value=[1000,3000]),\n",
    "    dcc.Graph(id='success-payload-scatter-chart')\n",
    "])\n",
    "\n",
    "@callback(\n",
    "    Output('success-pie-chart','figure'),\n",
    "    Input('site-dropdown','value')\n",
    ")\n",
    "\n",
    "def first_graph(selected_site):\n",
    "    if selected_site == 'ALL':\n",
    "        fig = px.pie(success,names='Launch Site',)\n",
    "    else:\n",
    "        selected_data = success[success['Launch Site'] == selected_site]\n",
    "        selected_success = selected_data['class'].value_counts()\n",
    "        other_data = success[success['Launch Site'] != selected_site]\n",
    "        other_success = other_data['class'].value_counts()\n",
    "        pie_data = pd.DataFrame({\n",
    "            'Site': ['Selected Site - Success', 'Other Sites - Success'[1]],\n",
    "            'Counts': [selected_success[1],other_success[1]]\n",
    "        })\n",
    "        fig = px.pie(pie_data, values='Counts', names='Site',\n",
    "                     title=f\"Launch Success Comparison for {selected_site} vs Other Sites\")\n",
    "    return fig\n",
    "\n",
    "@callback(\n",
    "    Output('success-payload-scatter-chart','figure'),\n",
    "    Input('payload-slider','value')\n",
    ")\n",
    "\n",
    "def second_graph(payload_range):\n",
    "    filtered_payload = df[(df['Payload Mass (kg)'] >= payload_range[0]) & (df['Payload Mass (kg)'] <= payload_range[1])]\n",
    "    fig = px.scatter(filtered_payload, x='Payload Mass (kg)', y='class', color='class',\n",
    "                     labels={\"class\": \"Launch Success\"}, title=\"Launch Success by Payload Mass\")\n",
    "    return fig\n",
    "\n",
    "\n",
    "if __name__ == '__main__':\n",
    "    app.run_server(debug=True)"
   ]
  },
  {
   "cell_type": "code",
   "execution_count": null,
   "id": "4f7b751d-458d-41c3-8939-7890399a9043",
   "metadata": {},
   "outputs": [],
   "source": []
  }
 ],
 "metadata": {
  "kernelspec": {
   "display_name": "Python 3 (ipykernel)",
   "language": "python",
   "name": "python3"
  },
  "language_info": {
   "codemirror_mode": {
    "name": "ipython",
    "version": 3
   },
   "file_extension": ".py",
   "mimetype": "text/x-python",
   "name": "python",
   "nbconvert_exporter": "python",
   "pygments_lexer": "ipython3",
   "version": "3.11.5"
  }
 },
 "nbformat": 4,
 "nbformat_minor": 5
}
